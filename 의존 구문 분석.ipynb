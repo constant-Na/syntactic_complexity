{
 "cells": [
  {
   "cell_type": "code",
   "execution_count": 1,
   "metadata": {},
   "outputs": [],
   "source": [
    "import urllib3\n",
    "import json\n",
    "import pandas as pd"
   ]
  },
  {
   "cell_type": "code",
   "execution_count": null,
   "metadata": {},
   "outputs": [],
   "source": [
    "# ETRI 언어 분석 API\n",
    "openApiURL = \"http://epretx.etri.re.kr:8000/api/WiseNLU\" \n",
    "\n",
    "accessKey = \"\" # ETRI 기술 사전 체험 플랫폼에 회원가입 후 얻은 개별 API Key\n",
    "    \n",
    "analysisCode = \"dparse\" # 의존 구문 분석\n",
    "\n",
    "text = str(\"상처를 보고 텔레비전 프로그램에 제보해야겠다고 생각했다”고 증언했다.\")\n",
    "\n",
    "requestJson = {\n",
    "    \"argument\": {\n",
    "        \"text\": text,\n",
    "        \"analysis_code\": analysisCode\n",
    "    }\n",
    "}\n",
    "\n",
    "http = urllib3.PoolManager()\n",
    "response = http.request(\n",
    "    \"POST\",\n",
    "    openApiURL,\n",
    "    headers={\"Content-Type\": \"application/json; charset=UTF-8\", \"Authorization\" :  accessKey},\n",
    "    body=json.dumps(requestJson)\n",
    ")\n",
    "\n",
    "result = json.loads(response.data.decode('utf-8'))\n",
    "\n",
    "with open('text.json', 'w', encoding='utf-8') as json_file:\n",
    "    json.dump(result, json_file, indent=4, ensure_ascii=False)"
   ]
  }
 ],
 "metadata": {
  "kernelspec": {
   "display_name": "constant",
   "language": "python",
   "name": "python3"
  },
  "language_info": {
   "codemirror_mode": {
    "name": "ipython",
    "version": 3
   },
   "file_extension": ".py",
   "mimetype": "text/x-python",
   "name": "python",
   "nbconvert_exporter": "python",
   "pygments_lexer": "ipython3",
   "version": "3.9.19"
  },
  "orig_nbformat": 4
 },
 "nbformat": 4,
 "nbformat_minor": 2
}
