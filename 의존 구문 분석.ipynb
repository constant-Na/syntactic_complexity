{
 "cells": [
  {
   "cell_type": "code",
   "execution_count": 1,
   "metadata": {},
   "outputs": [],
   "source": [
    "import urllib3\n",
    "import json\n",
    "import pandas as pd"
   ]
  },
  {
   "cell_type": "code",
   "execution_count": 2,
   "metadata": {},
   "outputs": [],
   "source": [
    "# ETRI 언어 분석 API\n",
    "openApiURL = \"http://epretx.etri.re.kr:8000/api/WiseNLU\" \n",
    "\n",
    "accessKey = \"f849f398-1da0-4f86-aa7b-386431728b99\"\n",
    "    \n",
    "analysisCode = \"dparse\" # 의존 구문 분석\n",
    "\n",
    "text = str(\"뜻을 공유하고 소통하는 관계인지, 아니면 다른 무엇인지 궁금해진다. 하지만 사람이 하는 일이라 알 수 있겠나”라고 말했다.\")\n",
    "\n",
    "requestJson = {\n",
    "    \"argument\": {\n",
    "        \"text\": text,\n",
    "        \"analysis_code\": analysisCode\n",
    "    }\n",
    "}\n",
    "\n",
    "http = urllib3.PoolManager()\n",
    "response = http.request(\n",
    "    \"POST\",\n",
    "    openApiURL,\n",
    "    headers={\"Content-Type\": \"application/json; charset=UTF-8\", \"Authorization\" :  accessKey},\n",
    "    body=json.dumps(requestJson)\n",
    ")\n",
    "\n",
    "result = json.loads(response.data.decode('utf-8'))\n",
    "\n",
    "with open(text[:10]+'.json', 'w', encoding='utf-8') as json_file:\n",
    "    json.dump(result, json_file, indent=4, ensure_ascii=False)"
   ]
  }
 ],
 "metadata": {
  "kernelspec": {
   "display_name": "syncomplex",
   "language": "python",
   "name": "python3"
  },
  "language_info": {
   "codemirror_mode": {
    "name": "ipython",
    "version": 3
   },
   "file_extension": ".py",
   "mimetype": "text/x-python",
   "name": "python",
   "nbconvert_exporter": "python",
   "pygments_lexer": "ipython3",
   "version": "3.13.5"
  },
  "orig_nbformat": 4
 },
 "nbformat": 4,
 "nbformat_minor": 2
}
