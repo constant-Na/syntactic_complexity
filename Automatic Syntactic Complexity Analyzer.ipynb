{
 "cells": [
  {
   "cell_type": "code",
   "execution_count": 1,
   "metadata": {},
   "outputs": [],
   "source": [
    "import pandas as pd\n",
    "import json\n",
    "\n",
    "with open('뜻을 공유하고 소통.json', 'r') as file:\n",
    "    data = json.load(file)"
   ]
  },
  {
   "cell_type": "code",
   "execution_count": 13,
   "metadata": {},
   "outputs": [
    {
     "data": {
      "text/plain": [
       "[8, 7]"
      ]
     },
     "execution_count": 13,
     "metadata": {},
     "output_type": "execute_result"
    }
   ],
   "source": [
    "# 기본 형식 점수 계산\n",
    "\n",
    "def is_real_VP(morp_result):\n",
    "    return (\n",
    "        'VX' not in morp_result or\n",
    "        'VV' in morp_result or\n",
    "        'VA' in morp_result or\n",
    "        'VCP' in morp_result or\n",
    "        'VCN' in morp_result\n",
    "    )\n",
    "\n",
    "basic_per_sent= []\n",
    "for sentence in data['return_object']['sentence']:\n",
    "    basic_per_clause = []\n",
    "    dep_id2label = {int(dep['id']): dep['label'] for dep in sentence['dependency']}\n",
    "    for morp, dep in zip(sentence['morp_eval'], sentence['dependency']):\n",
    "        if ('VP' in dep['label']) or ('VNP' in dep['label']):\n",
    "            if is_real_VP(morp['result']):\n",
    "                basic_elements = [dep_id2label[int(sub)] for sub in dep['mod'] if int(sub) in dep_id2label]\n",
    "                basic_per_clause.append(basic_elements)\n",
    "    basic_per_sent.append(basic_per_clause)\n",
    "\n",
    "basic_score_per_sent = []\n",
    "for sent in basic_per_sent:\n",
    "    basic_score = 0\n",
    "    for clause in sent:\n",
    "        basic_score_per_clause = 1\n",
    "        if ('VP_OBJ' in clause) or ('NP_OBJ' in clause) or ('X_OBJ' in clause) or ('VNP_OBJ' in clause):\n",
    "            basic_score_per_clause += 1\n",
    "        if ('AP_CMP' in clause) or ('X_CMP' in clause) or ('NP_CMP' in clause) or ('VP_CMP' in clause) or ('VNP_CMP' in clause):\n",
    "            basic_score_per_clause += 1\n",
    "        basic_score += basic_score_per_clause\n",
    "    # 최대 점수 제한 기능(삭제를 원할 경우 아래 4줄 삭제)\n",
    "    if basic_score > 20:\n",
    "        basic_score = 20\n",
    "    else:\n",
    "        basic_score = basic_score\n",
    "    basic_score_per_sent.append(basic_score)\n",
    "\n",
    "basic_score_per_sent"
   ]
  },
  {
   "cell_type": "code",
   "execution_count": null,
   "metadata": {},
   "outputs": [
    {
     "data": {
      "text/plain": [
       "[0.5, 0.5]"
      ]
     },
     "execution_count": 10,
     "metadata": {},
     "output_type": "execute_result"
    }
   ],
   "source": [
    "# 수식 구조 점수 계산\n",
    "\n",
    "add1_score_per_sent = []\n",
    "\n",
    "for sentence in data['return_object']['sentence']:\n",
    "    add1_score = 0\n",
    "    for dep in sentence['dependency']:\n",
    "        if dep['label'] in ['NP_MOD', 'X_MOD', 'DP', 'NP_AJT', 'AP_AJT', 'X_AJT', 'NP_INT', 'IP']:\n",
    "            add1_score += 1\n",
    "        if dep['label'] =='AP':\n",
    "            if dep['text'] not in ['없이', '달리', '같이']:\n",
    "                add1_score += 1\n",
    "            elif len(dep['mod']) == 0:\n",
    "                add1_score += 1\n",
    "        if dep['label'] in ['NP_SBJ', 'NP_OBJ', 'NP_CMP', 'NP_MOD', 'NP_CNJ', 'NP', 'NP_AJT', 'NP_INT']:\n",
    "            add1_score += dep['mod'].count('NP')\n",
    "    # 최대 점수 제한 기능(삭제를 원할 경우 아래 4줄 삭제)\n",
    "    if add1_score >= 14:\n",
    "        add1_score = 14\n",
    "    else:\n",
    "        add1_score = add1_score\n",
    "    add1_score_per_sent.append(add1_score/2)\n",
    "\n",
    "add1_score_per_sent"
   ]
  },
  {
   "cell_type": "code",
   "execution_count": null,
   "metadata": {},
   "outputs": [
    {
     "data": {
      "text/plain": [
       "[4, 10]"
      ]
     },
     "execution_count": 11,
     "metadata": {},
     "output_type": "execute_result"
    }
   ],
   "source": [
    "# 내포 구조 점수 계산\n",
    "\n",
    "clause_list = ['VP_SBJ', 'VNP_SBJ', 'VP_OBJ', 'VNP_OBJ', 'VP_CNJ', 'VNP_CNJ', 'VP_MOD', 'VNP_MOD',\n",
    "               'VP_AJT', 'VNP_AJT', 'VP_CMP', 'VNP_CMP']\n",
    "\n",
    "add2_score_per_sent = []\n",
    "for sentence in data['return_object']['sentence']:\n",
    "    add2_score = 0\n",
    "    for morp, dep in zip(sentence['morp_eval'], sentence['dependency']):\n",
    "        # 명사절\n",
    "        if (dep['label'] in ['VP_SBJ', 'VNP_SBJ', 'VP_OBJ', 'VNP_OBJ', 'VP_CNJ', 'VNP_CNJ']):\n",
    "            # 한 단어\n",
    "            if len(dep['mod']) == 0:\n",
    "                add2_score += 1\n",
    "            else:\n",
    "                add2_score += 2\n",
    "                # 내포절 안의 내포절\n",
    "                pre_add2_elements = [p['label'] for sub in dep['mod'] for p in sentence['dependency'] if int(sub) == int(p['id'])]\n",
    "                for clause in clause_list:\n",
    "                    add2_score += pre_add2_elements.count(clause)\n",
    "                # 내포절 안의 서술절\n",
    "                for num, elem in zip(dep['mod'], pre_add2_elements):\n",
    "                    if elem in ['VP', 'VNP', 'VP_PRN', 'VNP_PRN', 'VP_SBJ', 'VNP_SBJ', 'VP_OBJ', 'VNP_OBJ', 'VP_CNJ', 'VNP_CNJ', 'VP_MOD', 'VNP_MOD',\n",
    "               'VP_AJT', 'VNP_AJT', 'VP_CMP', 'VNP_CMP']:\n",
    "                        for x in sentence['dependency']:\n",
    "                            if int(num) == int(x['id']):\n",
    "                                if x['mod'].count('VP_SBJ') + x['mod'].count('VNP_SBJ') + x['mod'].count('X_SBJ') + x['mod'].count('NP_SBJ') >= 2:\n",
    "                                    add2_score += 1\n",
    "\n",
    "        # 인용절\n",
    "        if (dep['label'] in ['VP_CMP', 'VNP_CMP']):\n",
    "            # 한 단어\n",
    "            if len(dep['mod']) == 0:\n",
    "                add2_score += 1\n",
    "            else:\n",
    "                add2_score += 2\n",
    "            # 내포절 안의 내포절\n",
    "                pre_add2_elements = [p['label'] for sub in dep['mod'] for p in sentence['dependency'] if int(sub) == int(p['id'])]\n",
    "                for clause in clause_list:\n",
    "                    add2_score += pre_add2_elements.count(clause)\n",
    "                # 내포절 안의 서술절\n",
    "                for num, elem in zip(dep['mod'], pre_add2_elements):\n",
    "                    if elem in ['VP', 'VNP', 'VP_PRN', 'VNP_PRN', 'VP_SBJ', 'VNP_SBJ', 'VP_OBJ', 'VNP_OBJ', 'VP_CNJ', 'VNP_CNJ', 'VP_MOD', 'VNP_MOD',\n",
    "               'VP_AJT', 'VNP_AJT', 'VP_CMP', 'VNP_CMP']:\n",
    "                        for x in sentence['dependency']:\n",
    "                            if int(num) == int(x['id']):\n",
    "                                if x['mod'].count('VP_SBJ') + x['mod'].count('VNP_SBJ') + x['mod'].count('X_SBJ') + x['mod'].count('NP_SBJ') >= 2:\n",
    "                                    add2_score += 1\n",
    "\n",
    "        # 관형절\n",
    "        if (dep['label'] in ['VP_MOD', 'VNP_MOD']):\n",
    "            # 한 단어\n",
    "            if len(dep['mod']) == 0:\n",
    "                add2_score += 1\n",
    "            else:\n",
    "                add2_score += 2\n",
    "                # 내포절 안의 내포절\n",
    "                pre_add2_elements = [p['label'] for sub in dep['mod'] for p in sentence['dependency'] if int(sub) == int(p['id'])]\n",
    "                for clause in clause_list:\n",
    "                    add2_score += pre_add2_elements.count(clause)\n",
    "                # 내포절 안의 서술절\n",
    "                for num, elem in zip(dep['mod'], pre_add2_elements):\n",
    "                    if elem in ['VP', 'VNP', 'VP_PRN', 'VNP_PRN', 'VP_SBJ', 'VNP_SBJ', 'VP_OBJ', 'VNP_OBJ', 'VP_CNJ', 'VNP_CNJ', 'VP_MOD', 'VNP_MOD',\n",
    "               'VP_AJT', 'VNP_AJT', 'VP_CMP', 'VNP_CMP']:\n",
    "                        for x in sentence['dependency']:\n",
    "                            if int(num) == int(x['id']):\n",
    "                                if x['mod'].count('VP_SBJ') + x['mod'].count('VNP_SBJ') + x['mod'].count('X_SBJ') + x['mod'].count('NP_SBJ') >= 2:\n",
    "                                    add2_score += 1\n",
    "\n",
    "        # 부사절\n",
    "        if (dep['label'] in ['VP_AJT', 'VNP_AJT']):\n",
    "            # 한 단어\n",
    "            if len(dep['mod']) == 0:\n",
    "                add2_score += 1\n",
    "            else:\n",
    "                add2_score += 2\n",
    "                # 내포절 안의 내포절\n",
    "                pre_add2_elements = [p['label'] for sub in dep['mod'] for p in sentence['dependency'] if int(sub) == int(p['id'])]\n",
    "                for clause in clause_list:\n",
    "                    add2_score += pre_add2_elements.count(clause)\n",
    "                # 내포절 안의 서술절\n",
    "                for num, elem in zip(dep['mod'], pre_add2_elements):\n",
    "                    if elem in ['VP', 'VNP', 'VP_PRN', 'VNP_PRN', 'VP_SBJ', 'VNP_SBJ', 'VP_OBJ', 'VNP_OBJ', 'VP_CNJ', 'VNP_CNJ', 'VP_MOD', 'VNP_MOD',\n",
    "               'VP_AJT', 'VNP_AJT', 'VP_CMP', 'VNP_CMP']:\n",
    "                        for x in sentence['dependency']:\n",
    "                            if int(num) == int(x['id']):\n",
    "                                if x['mod'].count('VP_SBJ') + x['mod'].count('VNP_SBJ') + x['mod'].count('X_SBJ') + x['mod'].count('NP_SBJ') >= 2:\n",
    "                                    add2_score += 1\n",
    "\n",
    "            # 부사절(달리, 없이, 같이)\n",
    "        if (dep['label'] in ['AP']) & (dep['text'] in ['달리', '없이', '같이']) & (len(dep['mod']) >= 1):\n",
    "            add2_score += 2\n",
    "            # 내포절 안의 내포절\n",
    "            pre_add2_elements = [p['label'] for sub in dep['mod'] for p in sentence['dependency'] if int(sub) == int(p['id'])]\n",
    "            for clause in clause_list:\n",
    "                add2_score += pre_add2_elements.count(clause)\n",
    "                # 내포절 안의 서술절\n",
    "            for num, elem in zip(dep['mod'], pre_add2_elements):\n",
    "                if elem in ['VP', 'VNP', 'VP_PRN', 'VNP_PRN', 'VP_SBJ', 'VNP_SBJ', 'VP_OBJ', 'VNP_OBJ', 'VP_CNJ', 'VNP_CNJ', 'VP_MOD', 'VNP_MOD',\n",
    "               'VP_AJT', 'VNP_AJT', 'VP_CMP', 'VNP_CMP']:\n",
    "                    for x in sentence['dependency']:\n",
    "                        if int(num) == int(x['id']):\n",
    "                            if x['mod'].count('VP_SBJ') + x['mod'].count('VNP_SBJ') + x['mod'].count('X_SBJ') + x['mod'].count('NP_SBJ') >= 2:\n",
    "                                add2_score += 1\n",
    "\n",
    "            # 서술절\n",
    "        if (dep['label'] in ['VP_SBJ', 'VNP_SBJ', 'VP_OBJ', 'VNP_OBJ', 'VP_CNJ', 'VNP_CNJ', 'VP_MOD', 'VNP_MOD',\n",
    "               'VP_AJT', 'VNP_AJT', 'VP_CMP', 'VNP_CMP']):\n",
    "            pre_add2_elements = [p['label'] for sub in dep['mod'] for p in sentence['dependency'] if int(sub) == int(p['id'])]\n",
    "            if pre_add2_elements.count('VP_SBJ') + pre_add2_elements.count('VNP_SBJ') + pre_add2_elements.count('X_SBJ') + pre_add2_elements.count('NP_SBJ') >= 2:\n",
    "                add2_score += 2\n",
    "            # 내포절 안의 내포절\n",
    "                for clause in clause_list:\n",
    "                    add2_score += pre_add2_elements.count(clause)\n",
    "                # 내포절 안의 서술절\n",
    "                for num, elem in zip(dep['mod'], pre_add2_elements):\n",
    "                    if elem in ['VP_SBJ', 'VNP_SBJ', 'VP_OBJ', 'VNP_OBJ', 'VP_CNJ', 'VNP_CNJ', 'VP_MOD', 'VNP_MOD',\n",
    "               'VP_AJT', 'VNP_AJT', 'VP_CMP', 'VNP_CMP']:\n",
    "                        for x in sentence['dependency']:\n",
    "                            if int(num) == int(x['id']):\n",
    "                                if x['mod'].count('VP_SBJ') + x['mod'].count('VNP_SBJ') + x['mod'].count('X_SBJ') + x['mod'].count('NP_SBJ') >= 2:\n",
    "                                    add2_score += 1\n",
    "    # 최대 점수 제한 기능(삭제를 원할 경우 아래 4줄 삭제)\n",
    "    if add2_score > 17:\n",
    "        add2_score = 17\n",
    "    else:\n",
    "        add2_score = add2_score\n",
    "    add2_score_per_sent.append(add2_score)\n",
    "\n",
    "add2_score_per_sent\n"
   ]
  },
  {
   "cell_type": "code",
   "execution_count": null,
   "metadata": {},
   "outputs": [
    {
     "data": {
      "text/plain": [
       "[3, 0]"
      ]
     },
     "execution_count": 12,
     "metadata": {},
     "output_type": "execute_result"
    }
   ],
   "source": [
    "# 접속 구조 점수 계산\n",
    "\n",
    "add3_score_per_sent = []\n",
    "\n",
    "for sentence in data['return_object']['sentence']:\n",
    "    add3_score = 0\n",
    "    for morp, dep, num in zip(sentence['morp_eval'], sentence['dependency'], range(len(sentence['dependency']))):\n",
    "        if (dep['label'] in ['VP', 'VNP', 'VP_PRN', 'VNP_PRN']) and (dep['head'] != -1):\n",
    "            if ('VX' not in morp['result']) or ('VV' in morp['result']) or ('VA' in morp['result']) or ('VCP' in morp['result']) or ('VCN' in morp['result']):\n",
    "                if num < len(sentence['morp_eval'])-1:\n",
    "                    if ('VX' in sentence['morp_eval'][num+1]['result']) and ('VV' not in sentence['morp_eval'][num+1]['result']) and ('VA' not in sentence['morp_eval'][num+1]['result']) and ('VCP' not in sentence['morp_eval'][num+1]['result']) and ('VCN' not in sentence['morp_eval'][num+1]['result']):\n",
    "                        if (sentence['dependency'][num+1]['label'] in ['VP', 'VNP', 'VP_PRN', 'VNP_PRN']) and (sentence['dependency'][num+1]['head'] != -1):\n",
    "                            add3_score += 1\n",
    "                    else:\n",
    "                        add3_score += 1\n",
    "    # 최대 점수 제한 기능(삭제를 원할 경우 아래 4줄 삭제)\n",
    "    if add3_score > 7:\n",
    "        add3_score = 7\n",
    "    else:\n",
    "        add3_score = add3_score\n",
    "    add3_score_per_sent.append(add3_score)\n",
    "\n",
    "add3_score_per_sent\n"
   ]
  },
  {
   "cell_type": "code",
   "execution_count": 16,
   "metadata": {},
   "outputs": [
    {
     "data": {
      "text/plain": [
       "[15.5, 17.5]"
      ]
     },
     "execution_count": 16,
     "metadata": {},
     "output_type": "execute_result"
    }
   ],
   "source": [
    "# 합산 점수 계산\n",
    "sum_score_per_sent = [a + b + c + d for a, b, c, d in zip(basic_score_per_sent, add1_score_per_sent, add2_score_per_sent, add3_score_per_sent)]\n",
    "sum_score_per_sent"
   ]
  },
  {
   "cell_type": "code",
   "execution_count": 20,
   "metadata": {},
   "outputs": [
    {
     "data": {
      "text/html": [
       "<div>\n",
       "<style scoped>\n",
       "    .dataframe tbody tr th:only-of-type {\n",
       "        vertical-align: middle;\n",
       "    }\n",
       "\n",
       "    .dataframe tbody tr th {\n",
       "        vertical-align: top;\n",
       "    }\n",
       "\n",
       "    .dataframe thead th {\n",
       "        text-align: right;\n",
       "    }\n",
       "</style>\n",
       "<table border=\"1\" class=\"dataframe\">\n",
       "  <thead>\n",
       "    <tr style=\"text-align: right;\">\n",
       "      <th></th>\n",
       "      <th>문장</th>\n",
       "      <th>기본 형식</th>\n",
       "      <th>수식</th>\n",
       "      <th>내포</th>\n",
       "      <th>접속</th>\n",
       "      <th>합산</th>\n",
       "    </tr>\n",
       "  </thead>\n",
       "  <tbody>\n",
       "    <tr>\n",
       "      <th>0</th>\n",
       "      <td>뜻을 공유하고 소통하는 관계인지, 아니면 다른 무엇인지 궁금해진다.</td>\n",
       "      <td>8</td>\n",
       "      <td>0.5</td>\n",
       "      <td>4</td>\n",
       "      <td>3</td>\n",
       "      <td>15.5</td>\n",
       "    </tr>\n",
       "    <tr>\n",
       "      <th>1</th>\n",
       "      <td>하지만 사람이 하는 일이라 알 수 있겠나”라고 말했다.</td>\n",
       "      <td>7</td>\n",
       "      <td>0.5</td>\n",
       "      <td>10</td>\n",
       "      <td>0</td>\n",
       "      <td>17.5</td>\n",
       "    </tr>\n",
       "  </tbody>\n",
       "</table>\n",
       "</div>"
      ],
      "text/plain": [
       "                                      문장  기본 형식   수식  내포  접속    합산\n",
       "0  뜻을 공유하고 소통하는 관계인지, 아니면 다른 무엇인지 궁금해진다.      8  0.5   4   3  15.5\n",
       "1         하지만 사람이 하는 일이라 알 수 있겠나”라고 말했다.      7  0.5  10   0  17.5"
      ]
     },
     "execution_count": 20,
     "metadata": {},
     "output_type": "execute_result"
    }
   ],
   "source": [
    "sentence_list = [x['text'] for x in data['return_object']['sentence']]\n",
    "df_result_final = pd.DataFrame({'문장': sentence_list,\n",
    "                                '기본 형식': basic_score_per_sent, \n",
    "                                '수식': add1_score_per_sent,\n",
    "                                '내포': add2_score_per_sent,\n",
    "                                '접속': add3_score_per_sent, \n",
    "                                '합산': sum_score_per_sent})\n",
    "\n",
    "df_result_final"
   ]
  },
  {
   "cell_type": "code",
   "execution_count": 21,
   "metadata": {},
   "outputs": [],
   "source": [
    "df_result_final.to_excel('df_result.xlsx')"
   ]
  }
 ],
 "metadata": {
  "kernelspec": {
   "display_name": "constant",
   "language": "python",
   "name": "python3"
  },
  "language_info": {
   "codemirror_mode": {
    "name": "ipython",
    "version": 3
   },
   "file_extension": ".py",
   "mimetype": "text/x-python",
   "name": "python",
   "nbconvert_exporter": "python",
   "pygments_lexer": "ipython3",
   "version": "3.9.19"
  },
  "orig_nbformat": 4
 },
 "nbformat": 4,
 "nbformat_minor": 2
}
